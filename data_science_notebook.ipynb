{
 "cells": [
  {
   "cell_type": "markdown",
   "id": "b8f5a470",
   "metadata": {},
   "source": [
    "# Introduction\n",
    "\n",
    "Ce notebook couvre les concepts de base liés à la science des données."
   ]
  },
  {
   "cell_type": "markdown",
   "id": "34d8370e",
   "metadata": {},
   "source": [
    "**Objectifs :**\n",
    "\n",
    "- Lister les langages populaires pour la science des données  \n",
    "- Comprendre les étapes du cycle de vie d’un projet de science des données  \n",
    "- Découvrir les outils courants utilisés par les data scientists  \n",
    "- Créer et exécuter des cellules dans un Jupyter Notebook  \n",
    "- Publier un notebook sur GitHub"
   ]
  },
  {
   "cell_type": "markdown",
   "id": "501af39b",
   "metadata": {},
   "source": [
    "## Auteur\n",
    "\n",
    "Jean Dupont"
   ]
  },
  {
   "cell_type": "code",
   "execution_count": null,
   "id": "f5900d84",
   "metadata": {},
   "outputs": [],
   "source": [
    "# Exemple de code Python\n",
    "print('Bonjour, science des données !')"
   ]
  }
 ],
 "metadata": {},
 "nbformat": 4,
 "nbformat_minor": 5
}
