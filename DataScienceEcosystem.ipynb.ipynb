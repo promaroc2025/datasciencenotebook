{
 "cells": [
  {
   "cell_type": "code",
   "execution_count": null,
   "id": "9ad99b77-8587-4eb1-9991-f4bac6e1d7e0",
   "metadata": {},
   "outputs": [],
   "source": []
  },
  {
   "cell_type": "markdown",
   "id": "9cbbbdc0-6351-40d8-9b32-98433e5fc4fd",
   "metadata": {},
   "source": [
    "# Importation des bibliothèques\n",
    "import pandas as pd\n",
    "import numpy as np\n",
    "import matplotlib.pyplot as plt\n",
    "import seaborn as sns\n",
    "from sklearn.model_selection import train_test_split\n",
    "from sklearn.ensemble import RandomForestClassifier\n",
    "from sklearn.metrics import accuracy_score, classification_report\n",
    "\n",
    "# Chargement et exploration des données\n",
    "# Exemple avec le jeu de données Iris\n",
    "from sklearn.datasets import load_iris\n",
    "iris = load_iris()\n",
    "df = pd.DataFrame(data=iris.data, columns=iris.feature_names)\n",
    "df['target'] = iris.target\n",
    "\n",
    "# Visualisation des données\n",
    "plt.figure(figsize=(12, 6))\n",
    "sns.scatterplot(x='sepal length (cm)', y='sepal width (cm)', \n",
    "                hue='target', data=df, palette='viridis')\n",
    "plt.title('Visualisation des données Iris')\n",
    "plt.show()\n",
    "\n",
    "# Préparation des données pour le machine learning\n",
    "X = df.drop('target', axis=1)\n",
    "y = df['target']\n",
    "X_train, X_test, y_train, y_test = train_test_split(X, y, test_size=0.3, random_state=42)\n",
    "\n",
    "# Entraînement d'un modèle\n",
    "model = RandomForestClassifier(n_estimators=100, random_state=42)\n",
    "model.fit(X_train, y_train)\n",
    "\n",
    "# Évaluation du modèle\n",
    "predictions = model.predict(X_test)\n",
    "print(f\"Précision: {accuracy_score(y_test, predictions):.4f}\")\n",
    "print(\"\\nRapport de classification:\")\n",
    "print(classification_report(y_test, predictions))\n",
    "\n",
    "# Importance des caractéristiques\n",
    "feature_importance = pd.DataFrame({\n",
    "    'Feature': X.columns,\n",
    "    'Importance': model.feature_importances_\n",
    "}).sort_values('Importance', ascending=False)\n",
    "\n",
    "plt.figure(figsize=(10, 6))\n",
    "sns.barplot(x='Importance', y='Feature', data=feature_importance)\n",
    "plt.title('Importance des caractéristiques')\n",
    "plt.tight_layout()\n",
    "plt.show()"
   ]
  },
  {
   "cell_type": "code",
   "execution_count": null,
   "id": "21ad5882-1868-4d84-8a0d-3443d89c2b91",
   "metadata": {},
   "outputs": [],
   "source": [
    "dans ce notebook, les outils et l'écosystème de la science des données sont résumés"
   ]
  },
  {
   "cell_type": "code",
   "execution_count": null,
   "id": "4e969d56-0e2d-4555-ada2-6556ab5adc68",
   "metadata": {},
   "outputs": [],
   "source": [
    "'#outils et écosystème de la sciences des données '"
   ]
  },
  {
   "cell_type": "code",
   "execution_count": null,
   "id": "da8fd787-3d7a-480d-92e4-b135d9a6d750",
   "metadata": {},
   "outputs": [],
   "source": [
    "1. Python\n",
    "2. R\n",
    "3.SQL\n",
    "4.Julia"
   ]
  },
  {
   "cell_type": "markdown",
   "id": "760cbbe6-184b-43cf-8525-7e6e4dd1285c",
   "metadata": {},
   "source": [
    "'dans ce notebook, "
   ]
  },
  {
   "cell_type": "code",
   "execution_count": null,
   "id": "50da6b3f-aa3f-4732-bc2b-cfc90c3afe08",
   "metadata": {},
   "outputs": [],
   "source": [
    "'dans ce notebook, les outils et l'écosystème de la science des données sont résumés.'"
   ]
  },
  {
   "cell_type": "markdown",
   "id": "02749232-7813-4deb-b649-1978d7ad46e3",
   "metadata": {},
   "source": []
  },
  {
   "cell_type": "markdown",
   "id": "d30a310e-078e-437a-b55d-b934b88b26ca",
   "metadata": {},
   "source": [
    "'dans ce notebook, les outils et l'écosystème de la science des données sont résumés.'"
   ]
  },
  {
   "cell_type": "markdown",
   "id": "89b607c8-9cc1-4a11-a4f7-4893ab01a1a0",
   "metadata": {},
   "source": [
    "certains des lagages populaires que\n",
    "1. Python\n",
    "2. R\n",
    "3. SQL\n",
    "4. Julia"
   ]
  },
  {
   "cell_type": "markdown",
   "id": "7c8c8e65-ab32-4b9f-a9f0-54c31701c8e7",
   "metadata": {},
   "source": [
    "certines des bibliothèques courammer\n",
    "1. Pandas\n",
    "2. NumPy\n",
    "3. Matplotlib\n",
    "4. Scikit-learn\n",
    "5. TensorFlow"
   ]
  },
  {
   "cell_type": "code",
   "execution_count": null,
   "id": "a3d9fca4-b3e6-4e6f-9713-c11081f53439",
   "metadata": {},
   "outputs": [],
   "source": [
    "| Outils de la science des données |\n",
    "| ------------------------------- |\n",
    "| JupyterLab                      |\n",
    "| RStudio                         |\n",
    "| VS Code                         |"
   ]
  },
  {
   "cell_type": "markdown",
   "id": "9611f8a2-aa90-4109-9f20-28023bf9575e",
   "metadata": {},
   "source": [
    "| Outils de la science des données |\n",
    "| ------------------------------- |\n",
    "| JupyterLab                      |\n",
    "| RStudio                         |\n",
    "| VS Code                         |"
   ]
  },
  {
   "cell_type": "markdown",
   "id": "7c529ec1-f075-4676-af25-dcff057dbd7c",
   "metadata": {},
   "source": []
  },
  {
   "cell_type": "markdown",
   "id": "990be65e-7395-4bba-8e98-bc5f2c877a1d",
   "metadata": {},
   "source": [
    "| Outils de la science des données |\n",
    "| ------------------------------- |\n",
    "| JupyterLab                      |\n",
    "| RStudio                         |\n",
    "| VS Code                         |"
   ]
  },
  {
   "cell_type": "markdown",
   "id": "457eac80-eef0-4595-a44b-3e00802f3cc3",
   "metadata": {},
   "source": [
    "### voici quelques exemples d'évaluation d'expressions arithmétiques en Python"
   ]
  },
  {
   "cell_type": "code",
   "execution_count": 1,
   "id": "5cc1ef04-9a3f-43d9-ae2e-d8bbdb4035c3",
   "metadata": {},
   "outputs": [
    {
     "data": {
      "text/plain": [
       "17"
      ]
     },
     "execution_count": 1,
     "metadata": {},
     "output_type": "execute_result"
    }
   ],
   "source": [
    "\n",
    "### Ceci est une simple expression arithmétique pour multiplier puis additionner des entiers\n",
    "(3*4)+5\n"
   ]
  },
  {
   "cell_type": "markdown",
   "id": "7bc15c9b-c8db-4fd3-ad41-ea87590f568d",
   "metadata": {},
   "source": [
    "# Cela convertira 200 minutes en heures en divisant par 60\n",
    "200 / 60"
   ]
  },
  {
   "cell_type": "markdown",
   "id": "9af40dde-af17-487e-a7b4-ceaf8d25a1c8",
   "metadata": {},
   "source": [
    "**objectifs :**\n",
    "- lister les langages populaires pour la science des données\n",
    "- comprendre les étapes du cycle de vie d'un projet de science des données\n",
    "- découvrir les outils courants utlisés par les data scientists\n",
    "- créer et exécuter des cellues dans un jupyter Notebook\n",
    "- publier un notebook sur GitHub "
   ]
  },
  {
   "cell_type": "code",
   "execution_count": 1,
   "id": "021cc058-0aea-4ec3-b914-d03e6580e0c1",
   "metadata": {},
   "outputs": [
    {
     "ename": "SyntaxError",
     "evalue": "invalid syntax (1371659682.py, line 3)",
     "output_type": "error",
     "traceback": [
      "\u001b[0;36m  Cell \u001b[0;32mIn[1], line 3\u001b[0;36m\u001b[0m\n\u001b[0;31m    Abdelkarim Omari\u001b[0m\n\u001b[0m               ^\u001b[0m\n\u001b[0;31mSyntaxError\u001b[0m\u001b[0;31m:\u001b[0m invalid syntax\n"
     ]
    }
   ],
   "source": [
    "## Auteur\n",
    "\n",
    "Abdelkarim Omari"
   ]
  },
  {
   "cell_type": "markdown",
   "id": "d7b02406-a1f1-429b-b190-8b1a4f5f8c16",
   "metadata": {},
   "source": []
  },
  {
   "cell_type": "markdown",
   "id": "3344e7cd-0d5d-46a4-9823-423fe14ca636",
   "metadata": {},
   "source": [
    "## Auteur\n",
    "\n",
    "Abdelkarim Omari"
   ]
  },
  {
   "cell_type": "code",
   "execution_count": null,
   "id": "5a9fc018-65e9-4086-9273-9c18cf8b4d15",
   "metadata": {},
   "outputs": [],
   "source": []
  }
 ],
 "metadata": {
  "kernelspec": {
   "display_name": "anaconda-panel-2023.05-py310",
   "language": "python",
   "name": "conda-env-anaconda-panel-2023.05-py310-py"
  },
  "language_info": {
   "codemirror_mode": {
    "name": "ipython",
    "version": 3
   },
   "file_extension": ".py",
   "mimetype": "text/x-python",
   "name": "python",
   "nbconvert_exporter": "python",
   "pygments_lexer": "ipython3",
   "version": "3.11.5"
  }
 },
 "nbformat": 4,
 "nbformat_minor": 5
}
